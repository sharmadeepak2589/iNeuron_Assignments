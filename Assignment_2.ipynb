{
 "cells": [
  {
   "cell_type": "markdown",
   "metadata": {},
   "source": [
    "# 1. What are the Boolean data type&#39;s two values? How do you go about writing them?"
   ]
  },
  {
   "cell_type": "markdown",
   "metadata": {},
   "source": [
    "Boolean data type has two values True & False. Below code shws how they can write."
   ]
  },
  {
   "cell_type": "code",
   "execution_count": 1,
   "metadata": {},
   "outputs": [
    {
     "data": {
      "text/plain": [
       "True"
      ]
     },
     "execution_count": 1,
     "metadata": {},
     "output_type": "execute_result"
    }
   ],
   "source": [
    "True"
   ]
  },
  {
   "cell_type": "code",
   "execution_count": 2,
   "metadata": {},
   "outputs": [
    {
     "data": {
      "text/plain": [
       "False"
      ]
     },
     "execution_count": 2,
     "metadata": {},
     "output_type": "execute_result"
    }
   ],
   "source": [
    "False"
   ]
  },
  {
   "cell_type": "markdown",
   "metadata": {},
   "source": [
    "# 2. What are the three different types of Boolean operators?"
   ]
  },
  {
   "cell_type": "markdown",
   "metadata": {},
   "source": [
    "There are three type of Boolean operations<br>\n",
    "AND<br>\n",
    "OR<br>\n",
    "NOT<br>"
   ]
  },
  {
   "cell_type": "markdown",
   "metadata": {},
   "source": [
    "# 3. Make a list of each Boolean operator&#39;s truth tables (i.e. every possible combination of Boolean values for the operator and what it evaluate )."
   ]
  },
  {
   "cell_type": "markdown",
   "metadata": {},
   "source": [
    "For AND operator<br>\n",
    "True and True =True<br>\n",
    "True and False= False<br>\n",
    "False and True=False<br>\n",
    "False And False=False<br>"
   ]
  },
  {
   "cell_type": "markdown",
   "metadata": {},
   "source": [
    "For OR operator<br>\n",
    "True or True=True<br>\n",
    "True or False=True<br>\n",
    "False or True=True<br>\n",
    "False or False=False"
   ]
  },
  {
   "cell_type": "raw",
   "metadata": {},
   "source": [
    "For NOT operator<br>\n",
    "Not operator gives the result as inverse\n",
    "Not True =False\n",
    "Not False=True"
   ]
  },
  {
   "cell_type": "markdown",
   "metadata": {},
   "source": [
    "# 4. What are the values of the following expressions?"
   ]
  },
  {
   "cell_type": "markdown",
   "metadata": {},
   "source": [
    "(5 > 4) and (3 == 5) = True and False =False<br>\n",
    "not(5>4) = False<br>\n",
    "(5>4) or (3==5)=True<br>\n",
    "not((5>4) or (3==5))=False<br>\n",
    "(True and True) and (True and False)=False<br>\n",
    "(not False) or (not True)=True"
   ]
  },
  {
   "cell_type": "markdown",
   "metadata": {},
   "source": [
    "# 5.What are the six different types of reference operators?"
   ]
  },
  {
   "cell_type": "markdown",
   "metadata": {},
   "source": [
    "1. Airthematic Opeartor - +,-,*,/<br>\n",
    "2. Assigment operator - +=, -=<br>\n",
    "3. Comparision Operator - >,<,>=,<=<br>\n",
    "4. Logical Operator - And, Or, Not<br>\n",
    "5. Assignment Operator - ==, !=<br>\n",
    "6. Mode operator - **, //"
   ]
  },
  {
   "cell_type": "markdown",
   "metadata": {},
   "source": [
    "# 6. How do you tell the difference between the equal to and assignment operators?"
   ]
  },
  {
   "cell_type": "markdown",
   "metadata": {},
   "source": [
    "equal to operator i denopted by single equal to sign(=), but asignment operator is defined as double equal to sign(==)"
   ]
  },
  {
   "cell_type": "markdown",
   "metadata": {},
   "source": [
    "# 7. Describe a condition and when you would use one."
   ]
  },
  {
   "cell_type": "code",
   "execution_count": 3,
   "metadata": {},
   "outputs": [
    {
     "name": "stdout",
     "output_type": "stream",
     "text": [
      "Value :5\n"
     ]
    }
   ],
   "source": [
    "input_variable = int(input(\"Value :\"))\n",
    "if input_variable>500 and input_variable<=1000:\n",
    "    print(\"Entered amount is between 500 & 1000\")\n",
    "else:\n",
    "    pass"
   ]
  },
  {
   "cell_type": "markdown",
   "metadata": {},
   "source": [
    "I just crated a simple condition statment with help of if and AND statment, In this case if user input value greater than 500\n",
    "& less than equal to 1000 only in that case it will give output, otherwise it will not give any output."
   ]
  },
  {
   "cell_type": "markdown",
   "metadata": {},
   "source": [
    "# 8. Recognize the following three blocks in this code:"
   ]
  },
  {
   "cell_type": "code",
   "execution_count": 4,
   "metadata": {},
   "outputs": [
    {
     "name": "stdout",
     "output_type": "stream",
     "text": [
      "spam\n"
     ]
    }
   ],
   "source": [
    "spam = 0\n",
    "if spam == 10:\n",
    "    print(\"Eggs\")\n",
    "    if spam>5:\n",
    "        print(\"bacon\")\n",
    "    else:\n",
    "        print(\"ham\")\n",
    "    print(\"spam\")\n",
    "print(\"spam\")"
   ]
  },
  {
   "cell_type": "markdown",
   "metadata": {},
   "source": [
    "In Above code spam =0, but in if condition i have mentioned that spam ==10, means it will not entered in if statment, so it will print only \n",
    "spam, if in case spam value will be 10 in that case it will enter in if statment and then print eggs, after that if will enter next if statment\n",
    "which isinside the if statment and print bacon, it will skip else part and then print spam which is print statment of outer if loop and the print \n",
    "another spam which is print statment of code, outside if statment."
   ]
  },
  {
   "cell_type": "markdown",
   "metadata": {},
   "source": [
    "# 9. Create a programme that prints. If 1 is stored in spam, prints Hello; if 2 is stored in spam, prints Howdy; and if 3 is stored in spam, prints Salutations! if there&#39;s something else in spam."
   ]
  },
  {
   "cell_type": "code",
   "execution_count": 5,
   "metadata": {},
   "outputs": [
    {
     "name": "stdout",
     "output_type": "stream",
     "text": [
      "Input value :10\n",
      "Something else in spam\n"
     ]
    }
   ],
   "source": [
    "spam=(int(input(\"Input value :\")))\n",
    "if spam == 1: print(\"Hello\")\n",
    "elif spam ==2: print(\"Howdy\")\n",
    "elif spam == 3: print(\"Salutations!\")\n",
    "else: print(\"Something else in spam\")"
   ]
  },
  {
   "cell_type": "markdown",
   "metadata": {},
   "source": [
    "# 10.If your programme is stuck in an endless loop, what keys can you press?"
   ]
  },
  {
   "cell_type": "markdown",
   "metadata": {},
   "source": [
    "Ctrl+c"
   ]
  },
  {
   "cell_type": "markdown",
   "metadata": {},
   "source": [
    "# 11. How can you tell the difference between break and continue?"
   ]
  },
  {
   "cell_type": "markdown",
   "metadata": {},
   "source": [
    "break is the keyword which is used to break the loop to stop its execuion.<br>\n",
    "Continue is used to bring control of programm to the start of the loop.\n"
   ]
  },
  {
   "cell_type": "markdown",
   "metadata": {},
   "source": [
    "# 12. In a for loop, what is the difference between range(10), range(0, 10), and range(0, 10, 1)?"
   ]
  },
  {
   "cell_type": "markdown",
   "metadata": {},
   "source": [
    "All the 3 statments will give same result only the different is in syntax\n",
    "range(10) - by default in range function code start from 0. In this case end point is 10 and by default step size is 1, \n",
    "so this code will start from 0 till 9 (exclude end point) & will increase by 1 point <br>\n",
    "\n",
    "range(0,10) - 0 is initial umber, 10 is end number,<br>\n",
    "\n",
    "range(0,10,1) - 0 is initail number, 10 end number & 1 s step size.<br>\n",
    "\n",
    "output - range(0,10), will generate range (0,1,2,3,4,5,6,7,8,9)"
   ]
  },
  {
   "cell_type": "markdown",
   "metadata": {},
   "source": [
    "# 13. Using a for loop, write a short programme that prints the numbers 1 to 10 Then, using a while loop, create an identical programme that prints the numbers 1 to 10."
   ]
  },
  {
   "cell_type": "code",
   "execution_count": 9,
   "metadata": {},
   "outputs": [
    {
     "name": "stdout",
     "output_type": "stream",
     "text": [
      "1\n",
      "2\n",
      "3\n",
      "4\n",
      "5\n",
      "6\n",
      "7\n",
      "8\n",
      "9\n",
      "10\n"
     ]
    }
   ],
   "source": [
    "for i in range(1,11):\n",
    "    print(i)"
   ]
  },
  {
   "cell_type": "code",
   "execution_count": 10,
   "metadata": {},
   "outputs": [
    {
     "name": "stdout",
     "output_type": "stream",
     "text": [
      "1\n",
      "2\n",
      "3\n",
      "4\n",
      "5\n",
      "6\n",
      "7\n",
      "8\n",
      "9\n",
      "10\n"
     ]
    }
   ],
   "source": [
    "a=1\n",
    "while a<11:\n",
    "    print(a)\n",
    "    a+=1"
   ]
  },
  {
   "cell_type": "markdown",
   "metadata": {},
   "source": [
    "# 14. If you had a bacon() function within a spam module, what would you call it after importing spam?"
   ]
  },
  {
   "cell_type": "markdown",
   "metadata": {},
   "source": [
    "bacon function of spam module."
   ]
  }
 ],
 "metadata": {
  "kernelspec": {
   "display_name": "Python 3",
   "language": "python",
   "name": "python3"
  },
  "language_info": {
   "codemirror_mode": {
    "name": "ipython",
    "version": 3
   },
   "file_extension": ".py",
   "mimetype": "text/x-python",
   "name": "python",
   "nbconvert_exporter": "python",
   "pygments_lexer": "ipython3",
   "version": "3.8.3"
  }
 },
 "nbformat": 4,
 "nbformat_minor": 4
}
