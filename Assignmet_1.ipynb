{
 "cells": [
  {
   "cell_type": "markdown",
   "metadata": {},
   "source": [
    "# 1. What are the differences between operators and values in the following?"
   ]
  },
  {
   "cell_type": "markdown",
   "metadata": {},
   "source": [
    "Operators are those which are used to perform some specific task like in example we have adition(+), subtraction(-), division(/).\n",
    "here addition(+) operator is used for sum, subtraction(-) is used to subtract any numbers  division is used to divide the numbers.\n",
    "Values are those on which operators used to perform some operation e.g. \"Hello\", -87.8, 6."
   ]
  },
  {
   "cell_type": "markdown",
   "metadata": {},
   "source": [
    "# 2. What is the difference between string and variable?"
   ]
  },
  {
   "cell_type": "markdown",
   "metadata": {},
   "source": [
    "To perform any action in python we need to know data type so we can perform some task. There are many data type in python such as \n",
    "\"int\", \"float\", \"string\", \"List\" etc. This clarify that string is data type. \n",
    "Variable is something which hold data or we can say that which is used to store data in memory.\n",
    "\n",
    "In example spam is variable & \"spam\" is string."
   ]
  },
  {
   "cell_type": "markdown",
   "metadata": {},
   "source": [
    "# 3. Describe three different data forms."
   ]
  },
  {
   "cell_type": "markdown",
   "metadata": {},
   "source": [
    "Three different data forms are:<br>\n",
    "1). int<br>\n",
    "2). float<br>\n",
    "3). string<br>\n",
    "Integer is data from which is used to define non-decimal values. e.g. 1,0,50000,-30 etc<br>\n",
    "float are those data type which defines decimal values. e.g 1.23, 3.66, -1.99 etc.<br>\n",
    "string is collection of alphabet characters e.g \"iNeuron\", \"abc\" etc."
   ]
  },
  {
   "cell_type": "markdown",
   "metadata": {},
   "source": [
    "# 4). What makes up an expression? What are the functions of all expressions?"
   ]
  },
  {
   "cell_type": "markdown",
   "metadata": {},
   "source": [
    "Expression are the combination of operand and operators. <br>\n",
    "e.g.<br>\n",
    "x=10 <br>\n",
    "y=20<br>\n",
    "sum = x+y<br>\n",
    "sum = 30<br>\n",
    "the statment x+y is named as expression where x & y are operand and y is airthematic operator.<br>\n",
    "\n",
    "\n",
    "All the expression perform some task with help of operand and operators & store value in variable"
   ]
  },
  {
   "cell_type": "markdown",
   "metadata": {},
   "source": [
    "# 5). In this chapter, assignment statements such as spam = 10 were added. What&#39;s the difference between a declaration and an expression?"
   ]
  },
  {
   "cell_type": "markdown",
   "metadata": {},
   "source": [
    "Declaration is assigning a value to variable, that varaible holds the assign data, where expression is performing some task (airthematic, comparision etc)\n",
    "with help of operand and operator and storning that value in variable example of expression : sum = spam+10."
   ]
  },
  {
   "cell_type": "markdown",
   "metadata": {},
   "source": [
    "# 6. After running the following code, what does the variable bacon contain?\n",
    "bacon = 22\n",
    "bacon + 1"
   ]
  },
  {
   "cell_type": "markdown",
   "metadata": {},
   "source": [
    "bacon will give result as 23.<br>\n",
    "initally bacon was 22, after adding 1 in bacon, the bacon value will increase by 1"
   ]
  },
  {
   "cell_type": "markdown",
   "metadata": {},
   "source": [
    "# 7. What should the values of the following two terms be?\n",
    "\n",
    "&#39;spam&#39; + &#39;spamspam&#39;\n",
    "&#39;spam&#39; * 3"
   ]
  },
  {
   "cell_type": "markdown",
   "metadata": {},
   "source": [
    "\"spam\"+\"spamspam\" & \"spam\"*3 both will give same result  i.e. 'spamspamspam'"
   ]
  },
  {
   "cell_type": "markdown",
   "metadata": {},
   "source": [
    "# 8. Why is it that eggs is a true variable name but 100 is not?"
   ]
  },
  {
   "cell_type": "markdown",
   "metadata": {},
   "source": [
    "Python says a variable should start with any alphbet. in above case eggs start with \"e\" is satisfy the condition where 100 is not statisfying the condition. Hence eggs is variable but 100 is not."
   ]
  },
  {
   "cell_type": "markdown",
   "metadata": {},
   "source": [
    "# 9. Which of the following three functions may be used to convert a value to an integer, a floating-point number, or a string?"
   ]
  },
  {
   "cell_type": "markdown",
   "metadata": {},
   "source": [
    "to convert any value into integer we will use int(variable_name/value) function variable_name in which value is stored, \n",
    "to convert any value into float we will use float(value) function & to convert any value into string we will use str(value) function.\n",
    "This method is called as type casting."
   ]
  },
  {
   "cell_type": "markdown",
   "metadata": {},
   "source": [
    "# 10. What is the error caused by this expression? What would you do about it?\n",
    "\n",
    "&#39;I have eaten &#39; + 99 + &#39; burritos.&#39;"
   ]
  },
  {
   "cell_type": "markdown",
   "metadata": {},
   "source": [
    "In python we cannot add the string with int value with + operator, to perform this task we need to use type casting. As shown below. "
   ]
  },
  {
   "cell_type": "code",
   "execution_count": 16,
   "metadata": {},
   "outputs": [
    {
     "data": {
      "text/plain": [
       "'I have eaten 99 burritos.'"
      ]
     },
     "execution_count": 16,
     "metadata": {},
     "output_type": "execute_result"
    }
   ],
   "source": [
    "'I have eaten ' + str(99) + ' burritos.'"
   ]
  }
 ],
 "metadata": {
  "kernelspec": {
   "display_name": "Python 3",
   "language": "python",
   "name": "python3"
  },
  "language_info": {
   "codemirror_mode": {
    "name": "ipython",
    "version": 3
   },
   "file_extension": ".py",
   "mimetype": "text/x-python",
   "name": "python",
   "nbconvert_exporter": "python",
   "pygments_lexer": "ipython3",
   "version": "3.8.3"
  }
 },
 "nbformat": 4,
 "nbformat_minor": 4
}
